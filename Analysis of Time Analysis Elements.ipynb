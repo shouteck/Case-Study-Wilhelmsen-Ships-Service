{
 "cells": [
  {
   "cell_type": "code",
   "execution_count": 2,
   "metadata": {},
   "outputs": [],
   "source": [
    "# Libraries\n",
    "import pandas as pd"
   ]
  },
  {
   "cell_type": "code",
   "execution_count": 3,
   "metadata": {},
   "outputs": [
    {
     "data": {
      "text/html": [
       "<div>\n",
       "<style scoped>\n",
       "    .dataframe tbody tr th:only-of-type {\n",
       "        vertical-align: middle;\n",
       "    }\n",
       "\n",
       "    .dataframe tbody tr th {\n",
       "        vertical-align: top;\n",
       "    }\n",
       "\n",
       "    .dataframe thead th {\n",
       "        text-align: right;\n",
       "    }\n",
       "</style>\n",
       "<table border=\"1\" class=\"dataframe\">\n",
       "  <thead>\n",
       "    <tr style=\"text-align: right;\">\n",
       "      <th></th>\n",
       "      <th>PortCallID</th>\n",
       "      <th>CargoID</th>\n",
       "      <th>TimeEventID</th>\n",
       "      <th>TimeEventFunc</th>\n",
       "      <th>TimeEventName</th>\n",
       "      <th>TEValueDate</th>\n",
       "      <th>TEValueTime</th>\n",
       "    </tr>\n",
       "  </thead>\n",
       "  <tbody>\n",
       "    <tr>\n",
       "      <td>0</td>\n",
       "      <td>5250050329</td>\n",
       "      <td>NaN</td>\n",
       "      <td>553000168.0</td>\n",
       "      <td>Bunkering</td>\n",
       "      <td>Hoses Connected</td>\n",
       "      <td>2019-10-02</td>\n",
       "      <td>14:04:00</td>\n",
       "    </tr>\n",
       "    <tr>\n",
       "      <td>1</td>\n",
       "      <td>5250050329</td>\n",
       "      <td>NaN</td>\n",
       "      <td>553000169.0</td>\n",
       "      <td>Bunkering</td>\n",
       "      <td>Hoses Disconnected</td>\n",
       "      <td>2019-10-02</td>\n",
       "      <td>18:05:00</td>\n",
       "    </tr>\n",
       "    <tr>\n",
       "      <td>2</td>\n",
       "      <td>5250050329</td>\n",
       "      <td>NaN</td>\n",
       "      <td>553000023.0</td>\n",
       "      <td>Bunkering</td>\n",
       "      <td>Barge Away</td>\n",
       "      <td>2019-10-02</td>\n",
       "      <td>18:55:00</td>\n",
       "    </tr>\n",
       "    <tr>\n",
       "      <td>3</td>\n",
       "      <td>5204050120</td>\n",
       "      <td>NaN</td>\n",
       "      <td>553000215.0</td>\n",
       "      <td>Arrival</td>\n",
       "      <td>Notice of Readiness Accepted</td>\n",
       "      <td>2019-09-23</td>\n",
       "      <td>08:40:00</td>\n",
       "    </tr>\n",
       "    <tr>\n",
       "      <td>4</td>\n",
       "      <td>5204050120</td>\n",
       "      <td>NaN</td>\n",
       "      <td>553000159.0</td>\n",
       "      <td>Arrival</td>\n",
       "      <td>Free Pratique</td>\n",
       "      <td>2019-09-23</td>\n",
       "      <td>08:35:00</td>\n",
       "    </tr>\n",
       "  </tbody>\n",
       "</table>\n",
       "</div>"
      ],
      "text/plain": [
       "   PortCallID CargoID  TimeEventID TimeEventFunc  \\\n",
       "0  5250050329     NaN  553000168.0     Bunkering   \n",
       "1  5250050329     NaN  553000169.0     Bunkering   \n",
       "2  5250050329     NaN  553000023.0     Bunkering   \n",
       "3  5204050120     NaN  553000215.0       Arrival   \n",
       "4  5204050120     NaN  553000159.0       Arrival   \n",
       "\n",
       "                  TimeEventName TEValueDate TEValueTime  \n",
       "0               Hoses Connected  2019-10-02    14:04:00  \n",
       "1            Hoses Disconnected  2019-10-02    18:05:00  \n",
       "2                    Barge Away  2019-10-02    18:55:00  \n",
       "3  Notice of Readiness Accepted  2019-09-23    08:40:00  \n",
       "4                 Free Pratique  2019-09-23    08:35:00  "
      ]
     },
     "execution_count": 3,
     "metadata": {},
     "output_type": "execute_result"
    }
   ],
   "source": [
    "# Let's come up with a definition for a 'valid' time element record\n",
    "# Before that, let's read in the dataset\n",
    "\n",
    "data = pd.read_excel(\"C:\\\\Users\\\\shout\\\\Desktop\\\\Shou Teck Time Elements.xlsx\")\n",
    "data.head()"
   ]
  },
  {
   "cell_type": "code",
   "execution_count": 4,
   "metadata": {},
   "outputs": [
    {
     "data": {
      "text/plain": [
       "(199906, 7)"
      ]
     },
     "execution_count": 4,
     "metadata": {},
     "output_type": "execute_result"
    }
   ],
   "source": [
    "data.shape"
   ]
  },
  {
   "cell_type": "code",
   "execution_count": 5,
   "metadata": {},
   "outputs": [],
   "source": [
    "# 1st criterion that qualifies a time element record as 'invalid' is that all the columns other than \"PortCallID\" are NULL \n",
    "# There are no useful insights that you can get out of it\n",
    "# Let's see how many of these records are there in the dataset\n",
    "# One thing I realised is that all of these records must have \"TimeEventID\" as NULL\n",
    "\n",
    "null_data = data[data[\"TimeEventID\"].isna()]"
   ]
  },
  {
   "cell_type": "code",
   "execution_count": 6,
   "metadata": {},
   "outputs": [
    {
     "data": {
      "text/plain": [
       "(61383, 7)"
      ]
     },
     "execution_count": 6,
     "metadata": {},
     "output_type": "execute_result"
    }
   ],
   "source": [
    "# That is 30% of the dataset consisting of 'invalid' time element records\n",
    "null_data.shape"
   ]
  },
  {
   "cell_type": "code",
   "execution_count": 7,
   "metadata": {},
   "outputs": [
    {
     "data": {
      "text/plain": [
       "(138523, 7)"
      ]
     },
     "execution_count": 7,
     "metadata": {},
     "output_type": "execute_result"
    }
   ],
   "source": [
    "# Since they are useless we can remove them\n",
    "\n",
    "data = data.dropna(subset = [\"TimeEventID\"]) \n",
    "data.shape"
   ]
  },
  {
   "cell_type": "code",
   "execution_count": 8,
   "metadata": {},
   "outputs": [
    {
     "data": {
      "text/html": [
       "<div>\n",
       "<style scoped>\n",
       "    .dataframe tbody tr th:only-of-type {\n",
       "        vertical-align: middle;\n",
       "    }\n",
       "\n",
       "    .dataframe tbody tr th {\n",
       "        vertical-align: top;\n",
       "    }\n",
       "\n",
       "    .dataframe thead th {\n",
       "        text-align: right;\n",
       "    }\n",
       "</style>\n",
       "<table border=\"1\" class=\"dataframe\">\n",
       "  <thead>\n",
       "    <tr style=\"text-align: right;\">\n",
       "      <th></th>\n",
       "      <th>PortCallID</th>\n",
       "      <th>CargoID</th>\n",
       "      <th>TimeEventID</th>\n",
       "      <th>TimeEventFunc</th>\n",
       "      <th>TimeEventName</th>\n",
       "      <th>TEValueDate</th>\n",
       "      <th>TEValueTime</th>\n",
       "    </tr>\n",
       "  </thead>\n",
       "  <tbody>\n",
       "    <tr>\n",
       "      <td>42</td>\n",
       "      <td>5257049296</td>\n",
       "      <td>NaN</td>\n",
       "      <td>553000007.0</td>\n",
       "      <td>Arrival</td>\n",
       "      <td>Anchored</td>\n",
       "      <td>NaT</td>\n",
       "      <td>NaN</td>\n",
       "    </tr>\n",
       "    <tr>\n",
       "      <td>48</td>\n",
       "      <td>5257049296</td>\n",
       "      <td>a0J6F000016jsdZUAQ</td>\n",
       "      <td>553000066.0</td>\n",
       "      <td>Cargo</td>\n",
       "      <td>Discharging Commenced</td>\n",
       "      <td>NaT</td>\n",
       "      <td>NaN</td>\n",
       "    </tr>\n",
       "    <tr>\n",
       "      <td>49</td>\n",
       "      <td>5257049296</td>\n",
       "      <td>a0J6F000016jsdZUAQ</td>\n",
       "      <td>553000094.0</td>\n",
       "      <td>Cargo</td>\n",
       "      <td>Discharging Completed</td>\n",
       "      <td>NaT</td>\n",
       "      <td>NaN</td>\n",
       "    </tr>\n",
       "    <tr>\n",
       "      <td>54</td>\n",
       "      <td>5257049296</td>\n",
       "      <td>NaN</td>\n",
       "      <td>553000210.0</td>\n",
       "      <td>Departure</td>\n",
       "      <td>Next Port ETA</td>\n",
       "      <td>NaT</td>\n",
       "      <td>NaN</td>\n",
       "    </tr>\n",
       "    <tr>\n",
       "      <td>73</td>\n",
       "      <td>5226047284</td>\n",
       "      <td>NaN</td>\n",
       "      <td>553000017.0</td>\n",
       "      <td>Arrival</td>\n",
       "      <td>Arrived</td>\n",
       "      <td>NaT</td>\n",
       "      <td>NaN</td>\n",
       "    </tr>\n",
       "  </tbody>\n",
       "</table>\n",
       "</div>"
      ],
      "text/plain": [
       "    PortCallID             CargoID  TimeEventID TimeEventFunc  \\\n",
       "42  5257049296                 NaN  553000007.0       Arrival   \n",
       "48  5257049296  a0J6F000016jsdZUAQ  553000066.0         Cargo   \n",
       "49  5257049296  a0J6F000016jsdZUAQ  553000094.0         Cargo   \n",
       "54  5257049296                 NaN  553000210.0     Departure   \n",
       "73  5226047284                 NaN  553000017.0       Arrival   \n",
       "\n",
       "            TimeEventName TEValueDate TEValueTime  \n",
       "42               Anchored         NaT         NaN  \n",
       "48  Discharging Commenced         NaT         NaN  \n",
       "49  Discharging Completed         NaT         NaN  \n",
       "54          Next Port ETA         NaT         NaN  \n",
       "73                Arrived         NaT         NaN  "
      ]
     },
     "execution_count": 8,
     "metadata": {},
     "output_type": "execute_result"
    }
   ],
   "source": [
    "# 2nd criterion that qualifies a time element record as 'invalid' is that both \"TEValueDate\" and \"TEValueTime\" are NULL\n",
    "# Associated with every time event has to have a starting date and the duration of it\n",
    "# Let's see how many of these records are there in the dataset\n",
    "\n",
    "null_data = data[data[\"TEValueDate\"].isna() & data[\"TEValueTime\"].isna()]\n",
    "null_data.head()"
   ]
  },
  {
   "cell_type": "code",
   "execution_count": 9,
   "metadata": {},
   "outputs": [
    {
     "data": {
      "text/plain": [
       "(55213, 7)"
      ]
     },
     "execution_count": 9,
     "metadata": {},
     "output_type": "execute_result"
    }
   ],
   "source": [
    "# That is 27% of the dataset consisting of 'invalid' time element records\n",
    "null_data.shape"
   ]
  },
  {
   "cell_type": "code",
   "execution_count": 10,
   "metadata": {},
   "outputs": [
    {
     "data": {
      "text/plain": [
       "(82805, 7)"
      ]
     },
     "execution_count": 10,
     "metadata": {},
     "output_type": "execute_result"
    }
   ],
   "source": [
    "# Since they are useless we can remove them\n",
    "\n",
    "data = data.dropna(subset = [\"TEValueDate\", \"TEValueTime\"]) \n",
    "data.shape"
   ]
  },
  {
   "cell_type": "code",
   "execution_count": 11,
   "metadata": {},
   "outputs": [
    {
     "data": {
      "text/html": [
       "<div>\n",
       "<style scoped>\n",
       "    .dataframe tbody tr th:only-of-type {\n",
       "        vertical-align: middle;\n",
       "    }\n",
       "\n",
       "    .dataframe tbody tr th {\n",
       "        vertical-align: top;\n",
       "    }\n",
       "\n",
       "    .dataframe thead th {\n",
       "        text-align: right;\n",
       "    }\n",
       "</style>\n",
       "<table border=\"1\" class=\"dataframe\">\n",
       "  <thead>\n",
       "    <tr style=\"text-align: right;\">\n",
       "      <th></th>\n",
       "      <th>PortCallID</th>\n",
       "      <th>CargoID</th>\n",
       "      <th>TimeEventID</th>\n",
       "      <th>TimeEventFunc</th>\n",
       "      <th>TimeEventName</th>\n",
       "      <th>TEValueDate</th>\n",
       "      <th>TEValueTime</th>\n",
       "    </tr>\n",
       "  </thead>\n",
       "  <tbody>\n",
       "  </tbody>\n",
       "</table>\n",
       "</div>"
      ],
      "text/plain": [
       "Empty DataFrame\n",
       "Columns: [PortCallID, CargoID, TimeEventID, TimeEventFunc, TimeEventName, TEValueDate, TEValueTime]\n",
       "Index: []"
      ]
     },
     "execution_count": 11,
     "metadata": {},
     "output_type": "execute_result"
    }
   ],
   "source": [
    "# From here onwards, the 'invalid' time element records won't be as generic as before\n",
    "# I will take a look at specifically \"TimeEventFunc\" = Cargo and see if there isn't a CargoID associated with it \n",
    "# Seems 'valid'\n",
    "null_data = data[(data[\"CargoID\"].isna()) & (data[\"TimeEventFunc\"] == \"Cargo\")]\n",
    "null_data.head()"
   ]
  },
  {
   "cell_type": "code",
   "execution_count": 12,
   "metadata": {},
   "outputs": [
    {
     "data": {
      "text/html": [
       "<div>\n",
       "<style scoped>\n",
       "    .dataframe tbody tr th:only-of-type {\n",
       "        vertical-align: middle;\n",
       "    }\n",
       "\n",
       "    .dataframe tbody tr th {\n",
       "        vertical-align: top;\n",
       "    }\n",
       "\n",
       "    .dataframe thead th {\n",
       "        text-align: right;\n",
       "    }\n",
       "</style>\n",
       "<table border=\"1\" class=\"dataframe\">\n",
       "  <thead>\n",
       "    <tr style=\"text-align: right;\">\n",
       "      <th></th>\n",
       "      <th>PortCallID</th>\n",
       "      <th>CargoID</th>\n",
       "      <th>TimeEventID</th>\n",
       "      <th>TimeEventFunc</th>\n",
       "      <th>TimeEventName</th>\n",
       "      <th>TEValueDate</th>\n",
       "      <th>TEValueTime</th>\n",
       "    </tr>\n",
       "  </thead>\n",
       "  <tbody>\n",
       "  </tbody>\n",
       "</table>\n",
       "</div>"
      ],
      "text/plain": [
       "Empty DataFrame\n",
       "Columns: [PortCallID, CargoID, TimeEventID, TimeEventFunc, TimeEventName, TEValueDate, TEValueTime]\n",
       "Index: []"
      ]
     },
     "execution_count": 12,
     "metadata": {},
     "output_type": "execute_result"
    }
   ],
   "source": [
    "# Vice-versa, check if there are \"TimeEventFunc\" != Cargo that has a CargoID associated with it\n",
    "# Seems 'valid'\n",
    "null_data = data[(data[\"CargoID\"].isna() == False) & (data[\"TimeEventFunc\"] != \"Cargo\")]\n",
    "null_data.head()"
   ]
  },
  {
   "cell_type": "code",
   "execution_count": 13,
   "metadata": {},
   "outputs": [
    {
     "data": {
      "text/plain": [
       "Loading Completed                1577\n",
       "Loading Commenced                1571\n",
       "Discharging Commenced            1252\n",
       "Discharging Completed            1238\n",
       "Calculation Completed             425\n",
       "                                 ... \n",
       "Shore Line Sample Commenced         1\n",
       "Hatch Closing Commenced             1\n",
       "Gas Free Inspection Commenced       1\n",
       "Inerting Commenced                  1\n",
       "Shore Line Sample Completed         1\n",
       "Name: TimeEventName, Length: 119, dtype: int64"
      ]
     },
     "execution_count": 13,
     "metadata": {},
     "output_type": "execute_result"
    }
   ],
   "source": [
    "# Here, I'm checking if the for every logical operation that require a completion and a commencement \n",
    "# Such as \"TimeEventFunc\" = Cargo where sometimes you load/discharge and these operations\n",
    "# come in a pair of (completion, commencement)\n",
    "# Indeed, there are some inconsistencies\n",
    "data[data[\"TimeEventFunc\"] == \"Cargo\"][\"TimeEventName\"].value_counts()"
   ]
  },
  {
   "cell_type": "code",
   "execution_count": 14,
   "metadata": {},
   "outputs": [
    {
     "data": {
      "text/plain": [
       "array(['Loading Commenced', 'Loading Completed',\n",
       "       'Est Time of Cargo Completion', 'Arm(s) Connection Completed',\n",
       "       'Tank Inspection Completed', 'Calculation Completed',\n",
       "       'Documents On Board (Outwards)', 'Arm(s) Disconnection Completed',\n",
       "       'Pilot On Board', 'Hoses Connected', 'Hoses Disconnected',\n",
       "       'Discharging Commenced', 'Discharging Completed',\n",
       "       'Gas Free Inspection Completed', 'Tank Inspection Commenced',\n",
       "       'Hose Connection Completed', 'Hose Disconnection Completed',\n",
       "       'Notice of Readiness Accepted', 'Arm(s) Connection Commenced',\n",
       "       'Safety Meeting Commenced', 'Safety Meeting Completed',\n",
       "       'Ullaging Commenced', 'Ullaging Completed', 'Surveyor On Board',\n",
       "       'Discharge Master On Board', 'Sampling Commenced',\n",
       "       'Sampling Completed', 'Calculations Commenced', 'Ramp Up',\n",
       "       'Ramp Down', 'Last Line Off', 'Final Draft Survey Completed',\n",
       "       'Gangway Down', 'Loading Master On Board',\n",
       "       'Notice of Readiness Tendered', 'Notice of Readiness Received',\n",
       "       'Initial Draft Survey Commenced', 'Final Draft Survey Commenced',\n",
       "       'N2 Blanketing Commenced', 'N2 Blanketing Completed',\n",
       "       'Purging Commenced', 'Purging Completed',\n",
       "       'Pump Stack Sample Commenced', 'Pump Stack Sample Complete',\n",
       "       'Samples Passed', 'Line Blowing Commenced',\n",
       "       'Line Blowing Completed', 'Anchored', 'Discharging Resumed',\n",
       "       'Discharging Stopped', 'Cargo Documents On Board',\n",
       "       'Inspection Commenced', 'Failed Inspection',\n",
       "       'Arm(s) Disconnection Commenced', 'Tank Cleaning Commenced',\n",
       "       'Tank Cleaning Completed', 'Pilot Away', 'Loading Resumed',\n",
       "       'Loading Stopped', 'Sample Taken', 'Barge Alongside',\n",
       "       'Hold Inspection Commenced', 'Hold Inspection Completed',\n",
       "       'Hatch Closed', 'Passed Inspection', 'Anchors Aweigh',\n",
       "       'First Line Ashore', 'All Fast', 'Hatch Opening Commenced',\n",
       "       'Hatch Opening Completed', 'Tug(s) Released', 'Lashing Completed',\n",
       "       'Unmooring Commenced', 'ETB', 'Initial Draft Survey Completed',\n",
       "       'Gas Free Inspection Commenced', 'Stripping Commenced',\n",
       "       'Vessel Ready to Sail', 'Notice of Readiness Re-Tendered',\n",
       "       'Barge Away', 'Inspection Completed', 'Survey Commenced',\n",
       "       'Survey Completed', 'Shifting Commenced', 'Shifting Completed',\n",
       "       'Tug(s) Alongside', 'Est Time of Cargo Commencement',\n",
       "       'Arm Cool down Commenced', 'Arm Cool down Completed',\n",
       "       'Vapor Line Connection Completed', 'Cleared by Authorities',\n",
       "       'Lashing Commenced', 'Hold Survey(s) Completed',\n",
       "       'Ships Tanks Cool down Commenced',\n",
       "       'Ships Tanks Cool down Completed',\n",
       "       'Vapor Line Connection Commenced',\n",
       "       'Intermediate Draft Survey Commenced',\n",
       "       'Intermediate Draft Survey Completed', 'Passed Survey(s)',\n",
       "       'Line Displacement Commenced', 'Line Displacement Completed',\n",
       "       'Fumigation Completed', 'Failed Hold Surveys',\n",
       "       'Expected Pilot on Board', 'C.O.W. Commenced', 'C.O.W. Completed',\n",
       "       'Deck Cleaning Completed', 'Inerting Commenced',\n",
       "       'Inerting Completed', 'Authorities Disembarked',\n",
       "       'Mooring Commenced', 'Fumigation Commenced',\n",
       "       'Hose Connection Commenced', 'Shore Line Sample Commenced',\n",
       "       'Shore Line Sample Completed', 'Hold Survey(s) Commenced',\n",
       "       'Stripping Completed', 'Hatch Closing Commenced',\n",
       "       'End Draft Check'], dtype=object)"
      ]
     },
     "execution_count": 14,
     "metadata": {},
     "output_type": "execute_result"
    }
   ],
   "source": [
    "# For every pair of (completion, commencement) we can find here, we can always remove the inconsistent time element records \n",
    "# that has either completion/commencement but lack its counterpart\n",
    "data[data[\"TimeEventFunc\"] == \"Cargo\"].TimeEventName.unique()"
   ]
  },
  {
   "cell_type": "code",
   "execution_count": 15,
   "metadata": {},
   "outputs": [],
   "source": [
    "# 3rd criterion that qualifies a time element record as 'invalid' is that any \"TimeEventName\" operation that should come as \n",
    "# a pair did not come as a pair\n",
    "# To achieve this, I may have to loop through the rows of the dataset which is an anti-pattern so I'm not so sure whats \n",
    "# the efficient way to do this"
   ]
  },
  {
   "cell_type": "code",
   "execution_count": 16,
   "metadata": {},
   "outputs": [
    {
     "data": {
      "text/plain": [
       "(82805, 7)"
      ]
     },
     "execution_count": 16,
     "metadata": {},
     "output_type": "execute_result"
    }
   ],
   "source": [
    "# The current size of the dataset with 'valid' time element records\n",
    "# Assuming that I have eliminated the invalid records using the 3rd criterion, the dataset size will be < 82805\n",
    "# That is a > 58% reduction is the dataset size\n",
    "data.shape"
   ]
  },
  {
   "cell_type": "code",
   "execution_count": 17,
   "metadata": {},
   "outputs": [
    {
     "data": {
      "text/html": [
       "<div>\n",
       "<style scoped>\n",
       "    .dataframe tbody tr th:only-of-type {\n",
       "        vertical-align: middle;\n",
       "    }\n",
       "\n",
       "    .dataframe tbody tr th {\n",
       "        vertical-align: top;\n",
       "    }\n",
       "\n",
       "    .dataframe thead th {\n",
       "        text-align: right;\n",
       "    }\n",
       "</style>\n",
       "<table border=\"1\" class=\"dataframe\">\n",
       "  <thead>\n",
       "    <tr style=\"text-align: right;\">\n",
       "      <th></th>\n",
       "      <th>PortCallID</th>\n",
       "      <th>CargoID</th>\n",
       "      <th>TimeEventID</th>\n",
       "      <th>TimeEventFunc</th>\n",
       "      <th>TimeEventName</th>\n",
       "      <th>TEValueDate</th>\n",
       "      <th>TEValueTime</th>\n",
       "    </tr>\n",
       "  </thead>\n",
       "  <tbody>\n",
       "    <tr>\n",
       "      <td>21</td>\n",
       "      <td>5272049254</td>\n",
       "      <td>a0J6F000016jsVuUAI</td>\n",
       "      <td>553000068.0</td>\n",
       "      <td>Cargo</td>\n",
       "      <td>Loading Commenced</td>\n",
       "      <td>2019-09-30</td>\n",
       "      <td>08:30:00</td>\n",
       "    </tr>\n",
       "    <tr>\n",
       "      <td>22</td>\n",
       "      <td>5272049254</td>\n",
       "      <td>a0J6F000016jsVvUAI</td>\n",
       "      <td>553000068.0</td>\n",
       "      <td>Cargo</td>\n",
       "      <td>Loading Commenced</td>\n",
       "      <td>2019-09-29</td>\n",
       "      <td>09:35:00</td>\n",
       "    </tr>\n",
       "    <tr>\n",
       "      <td>23</td>\n",
       "      <td>5272049254</td>\n",
       "      <td>a0J6F000016jsVwUAI</td>\n",
       "      <td>553000068.0</td>\n",
       "      <td>Cargo</td>\n",
       "      <td>Loading Commenced</td>\n",
       "      <td>2019-09-29</td>\n",
       "      <td>19:15:00</td>\n",
       "    </tr>\n",
       "    <tr>\n",
       "      <td>353</td>\n",
       "      <td>5328050339</td>\n",
       "      <td>a0J6F000018FfzoUAC</td>\n",
       "      <td>553000068.0</td>\n",
       "      <td>Cargo</td>\n",
       "      <td>Loading Commenced</td>\n",
       "      <td>2019-10-06</td>\n",
       "      <td>11:24:00</td>\n",
       "    </tr>\n",
       "    <tr>\n",
       "      <td>800</td>\n",
       "      <td>5346050359</td>\n",
       "      <td>a0J6F000018Fg2mUAC</td>\n",
       "      <td>553000068.0</td>\n",
       "      <td>Cargo</td>\n",
       "      <td>Loading Commenced</td>\n",
       "      <td>2019-10-03</td>\n",
       "      <td>14:00:00</td>\n",
       "    </tr>\n",
       "  </tbody>\n",
       "</table>\n",
       "</div>"
      ],
      "text/plain": [
       "     PortCallID             CargoID  TimeEventID TimeEventFunc  \\\n",
       "21   5272049254  a0J6F000016jsVuUAI  553000068.0         Cargo   \n",
       "22   5272049254  a0J6F000016jsVvUAI  553000068.0         Cargo   \n",
       "23   5272049254  a0J6F000016jsVwUAI  553000068.0         Cargo   \n",
       "353  5328050339  a0J6F000018FfzoUAC  553000068.0         Cargo   \n",
       "800  5346050359  a0J6F000018Fg2mUAC  553000068.0         Cargo   \n",
       "\n",
       "         TimeEventName TEValueDate TEValueTime  \n",
       "21   Loading Commenced  2019-09-30    08:30:00  \n",
       "22   Loading Commenced  2019-09-29    09:35:00  \n",
       "23   Loading Commenced  2019-09-29    19:15:00  \n",
       "353  Loading Commenced  2019-10-06    11:24:00  \n",
       "800  Loading Commenced  2019-10-03    14:00:00  "
      ]
     },
     "execution_count": 17,
     "metadata": {},
     "output_type": "execute_result"
    }
   ],
   "source": [
    "loading_commence = data[(data[\"TimeEventFunc\"] == \"Cargo\") & (data[\"TimeEventName\"] == \"Loading Commenced\")]\n",
    "loading_complete = data[(data[\"TimeEventFunc\"] == \"Cargo\") & (data[\"TimeEventName\"] == \"Loading Completed\")]\n",
    "loading_commence.head()"
   ]
  },
  {
   "cell_type": "code",
   "execution_count": 18,
   "metadata": {},
   "outputs": [
    {
     "data": {
      "text/html": [
       "<div>\n",
       "<style scoped>\n",
       "    .dataframe tbody tr th:only-of-type {\n",
       "        vertical-align: middle;\n",
       "    }\n",
       "\n",
       "    .dataframe tbody tr th {\n",
       "        vertical-align: top;\n",
       "    }\n",
       "\n",
       "    .dataframe thead th {\n",
       "        text-align: right;\n",
       "    }\n",
       "</style>\n",
       "<table border=\"1\" class=\"dataframe\">\n",
       "  <thead>\n",
       "    <tr style=\"text-align: right;\">\n",
       "      <th></th>\n",
       "      <th>PortCallID</th>\n",
       "      <th>CargoID</th>\n",
       "      <th>TimeEventID</th>\n",
       "      <th>TimeEventFunc</th>\n",
       "      <th>TimeEventName</th>\n",
       "      <th>TEValueDate</th>\n",
       "      <th>TEValueTime</th>\n",
       "    </tr>\n",
       "  </thead>\n",
       "  <tbody>\n",
       "    <tr>\n",
       "      <td>24</td>\n",
       "      <td>5272049254</td>\n",
       "      <td>a0J6F000016jsVuUAI</td>\n",
       "      <td>553000104.0</td>\n",
       "      <td>Cargo</td>\n",
       "      <td>Loading Completed</td>\n",
       "      <td>2019-09-30</td>\n",
       "      <td>08:45:00</td>\n",
       "    </tr>\n",
       "    <tr>\n",
       "      <td>25</td>\n",
       "      <td>5272049254</td>\n",
       "      <td>a0J6F000016jsVvUAI</td>\n",
       "      <td>553000104.0</td>\n",
       "      <td>Cargo</td>\n",
       "      <td>Loading Completed</td>\n",
       "      <td>2019-09-29</td>\n",
       "      <td>11:00:00</td>\n",
       "    </tr>\n",
       "    <tr>\n",
       "      <td>26</td>\n",
       "      <td>5272049254</td>\n",
       "      <td>a0J6F000016jsVwUAI</td>\n",
       "      <td>553000104.0</td>\n",
       "      <td>Cargo</td>\n",
       "      <td>Loading Completed</td>\n",
       "      <td>2019-09-29</td>\n",
       "      <td>20:20:00</td>\n",
       "    </tr>\n",
       "    <tr>\n",
       "      <td>354</td>\n",
       "      <td>5328050339</td>\n",
       "      <td>a0J6F000018FfzoUAC</td>\n",
       "      <td>553000104.0</td>\n",
       "      <td>Cargo</td>\n",
       "      <td>Loading Completed</td>\n",
       "      <td>2019-10-08</td>\n",
       "      <td>03:28:00</td>\n",
       "    </tr>\n",
       "    <tr>\n",
       "      <td>801</td>\n",
       "      <td>5346050359</td>\n",
       "      <td>a0J6F000018Fg2mUAC</td>\n",
       "      <td>553000104.0</td>\n",
       "      <td>Cargo</td>\n",
       "      <td>Loading Completed</td>\n",
       "      <td>2019-10-03</td>\n",
       "      <td>19:30:00</td>\n",
       "    </tr>\n",
       "  </tbody>\n",
       "</table>\n",
       "</div>"
      ],
      "text/plain": [
       "     PortCallID             CargoID  TimeEventID TimeEventFunc  \\\n",
       "24   5272049254  a0J6F000016jsVuUAI  553000104.0         Cargo   \n",
       "25   5272049254  a0J6F000016jsVvUAI  553000104.0         Cargo   \n",
       "26   5272049254  a0J6F000016jsVwUAI  553000104.0         Cargo   \n",
       "354  5328050339  a0J6F000018FfzoUAC  553000104.0         Cargo   \n",
       "801  5346050359  a0J6F000018Fg2mUAC  553000104.0         Cargo   \n",
       "\n",
       "         TimeEventName TEValueDate TEValueTime  \n",
       "24   Loading Completed  2019-09-30    08:45:00  \n",
       "25   Loading Completed  2019-09-29    11:00:00  \n",
       "26   Loading Completed  2019-09-29    20:20:00  \n",
       "354  Loading Completed  2019-10-08    03:28:00  \n",
       "801  Loading Completed  2019-10-03    19:30:00  "
      ]
     },
     "execution_count": 18,
     "metadata": {},
     "output_type": "execute_result"
    }
   ],
   "source": [
    "loading_complete.head()"
   ]
  },
  {
   "cell_type": "code",
   "execution_count": 23,
   "metadata": {},
   "outputs": [],
   "source": [
    "# (Assumption) Going with the logic that commencement comes together with completion\n",
    "# The average will be an estimate as well as there isn't a 1-1 correspondence for every commencement and completion\n",
    "# Since #LoadingCompletion exceeds #LoadingCommencement, we will treat some of the LoadingCompletion as a pair for excess\n",
    "# LoadingCompletion records that do not have a pair yet\n",
    "\n",
    "# (1577 + 1571) / 2 = 1574 \n",
    "# There are 1574 pairs of (commencement, completion)"
   ]
  },
  {
   "cell_type": "code",
   "execution_count": 24,
   "metadata": {},
   "outputs": [
    {
     "data": {
      "text/html": [
       "<div>\n",
       "<style scoped>\n",
       "    .dataframe tbody tr th:only-of-type {\n",
       "        vertical-align: middle;\n",
       "    }\n",
       "\n",
       "    .dataframe tbody tr th {\n",
       "        vertical-align: top;\n",
       "    }\n",
       "\n",
       "    .dataframe thead th {\n",
       "        text-align: right;\n",
       "    }\n",
       "</style>\n",
       "<table border=\"1\" class=\"dataframe\">\n",
       "  <thead>\n",
       "    <tr style=\"text-align: right;\">\n",
       "      <th></th>\n",
       "      <th>TEValueTime</th>\n",
       "    </tr>\n",
       "  </thead>\n",
       "  <tbody>\n",
       "    <tr>\n",
       "      <td>24</td>\n",
       "      <td>31500</td>\n",
       "    </tr>\n",
       "    <tr>\n",
       "      <td>25</td>\n",
       "      <td>39600</td>\n",
       "    </tr>\n",
       "    <tr>\n",
       "      <td>26</td>\n",
       "      <td>73200</td>\n",
       "    </tr>\n",
       "    <tr>\n",
       "      <td>354</td>\n",
       "      <td>12480</td>\n",
       "    </tr>\n",
       "    <tr>\n",
       "      <td>801</td>\n",
       "      <td>70200</td>\n",
       "    </tr>\n",
       "  </tbody>\n",
       "</table>\n",
       "</div>"
      ],
      "text/plain": [
       "     TEValueTime\n",
       "24         31500\n",
       "25         39600\n",
       "26         73200\n",
       "354        12480\n",
       "801        70200"
      ]
     },
     "execution_count": 24,
     "metadata": {},
     "output_type": "execute_result"
    }
   ],
   "source": [
    "# Lets convert \"TEValueTime\" to seconds first for easy computation\n",
    "loading_complete_seconds = (pd.to_timedelta(loading_complete['TEValueTime'].astype(str)).dt.seconds).to_frame()\n",
    "loading_complete_seconds.head()"
   ]
  },
  {
   "cell_type": "code",
   "execution_count": 26,
   "metadata": {},
   "outputs": [
    {
     "data": {
      "text/html": [
       "<div>\n",
       "<style scoped>\n",
       "    .dataframe tbody tr th:only-of-type {\n",
       "        vertical-align: middle;\n",
       "    }\n",
       "\n",
       "    .dataframe tbody tr th {\n",
       "        vertical-align: top;\n",
       "    }\n",
       "\n",
       "    .dataframe thead th {\n",
       "        text-align: right;\n",
       "    }\n",
       "</style>\n",
       "<table border=\"1\" class=\"dataframe\">\n",
       "  <thead>\n",
       "    <tr style=\"text-align: right;\">\n",
       "      <th></th>\n",
       "      <th>TEValueTime</th>\n",
       "    </tr>\n",
       "  </thead>\n",
       "  <tbody>\n",
       "    <tr>\n",
       "      <td>21</td>\n",
       "      <td>30600</td>\n",
       "    </tr>\n",
       "    <tr>\n",
       "      <td>22</td>\n",
       "      <td>34500</td>\n",
       "    </tr>\n",
       "    <tr>\n",
       "      <td>23</td>\n",
       "      <td>69300</td>\n",
       "    </tr>\n",
       "    <tr>\n",
       "      <td>353</td>\n",
       "      <td>41040</td>\n",
       "    </tr>\n",
       "    <tr>\n",
       "      <td>800</td>\n",
       "      <td>50400</td>\n",
       "    </tr>\n",
       "  </tbody>\n",
       "</table>\n",
       "</div>"
      ],
      "text/plain": [
       "     TEValueTime\n",
       "21         30600\n",
       "22         34500\n",
       "23         69300\n",
       "353        41040\n",
       "800        50400"
      ]
     },
     "execution_count": 26,
     "metadata": {},
     "output_type": "execute_result"
    }
   ],
   "source": [
    "# Similarly, for loading commencement\n",
    "loading_commence_seconds = (pd.to_timedelta(loading_commence['TEValueTime'].astype(str)).dt.seconds).to_frame()\n",
    "loading_commence_seconds.head()"
   ]
  },
  {
   "cell_type": "code",
   "execution_count": 30,
   "metadata": {},
   "outputs": [
    {
     "data": {
      "text/plain": [
       "44261.62642947903"
      ]
     },
     "execution_count": 30,
     "metadata": {},
     "output_type": "execute_result"
    }
   ],
   "source": [
    "# Lets sum the values in both tables and average it \n",
    "avg_loading = (loading_commence_seconds['TEValueTime'].sum() + loading_complete_seconds['TEValueTime'].sum())\n",
    "avg_loading = avg_loading / ((loading_commence_seconds.shape)[0] + (loading_complete_seconds.shape)[0])\n",
    "avg_loading"
   ]
  },
  {
   "cell_type": "code",
   "execution_count": 31,
   "metadata": {},
   "outputs": [
    {
     "data": {
      "text/plain": [
       "45449.8313253012"
      ]
     },
     "execution_count": 31,
     "metadata": {},
     "output_type": "execute_result"
    }
   ],
   "source": [
    "# I'm going to repeat the process for discharging\n",
    "\n",
    "discharging_commence = data[(data[\"TimeEventFunc\"] == \"Cargo\") & (data[\"TimeEventName\"] == \"Discharging Commenced\")]\n",
    "discharging_complete = data[(data[\"TimeEventFunc\"] == \"Cargo\") & (data[\"TimeEventName\"] == \"Discharging Completed\")]\n",
    "\n",
    "discharging_complete_seconds = (pd.to_timedelta(discharging_complete['TEValueTime'].astype(str)).dt.seconds).to_frame()\n",
    "discharging_commence_seconds = (pd.to_timedelta(discharging_commence['TEValueTime'].astype(str)).dt.seconds).to_frame()\n",
    "\n",
    "avg_discharging = (discharging_commence_seconds['TEValueTime'].sum() + discharging_complete_seconds['TEValueTime'].sum())\n",
    "avg_discharging = avg_discharging / ((discharging_commence_seconds.shape)[0] + (discharging_complete_seconds.shape)[0])\n",
    "avg_discharging"
   ]
  },
  {
   "cell_type": "code",
   "execution_count": null,
   "metadata": {},
   "outputs": [],
   "source": []
  }
 ],
 "metadata": {
  "kernelspec": {
   "display_name": "Python 3",
   "language": "python",
   "name": "python3"
  },
  "language_info": {
   "codemirror_mode": {
    "name": "ipython",
    "version": 3
   },
   "file_extension": ".py",
   "mimetype": "text/x-python",
   "name": "python",
   "nbconvert_exporter": "python",
   "pygments_lexer": "ipython3",
   "version": "3.7.4"
  }
 },
 "nbformat": 4,
 "nbformat_minor": 2
}
